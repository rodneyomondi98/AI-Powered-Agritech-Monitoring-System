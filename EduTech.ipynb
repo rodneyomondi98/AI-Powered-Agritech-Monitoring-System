{
  "nbformat": 4,
  "nbformat_minor": 0,
  "metadata": {
    "colab": {
      "provenance": []
    },
    "kernelspec": {
      "name": "python3",
      "display_name": "Python 3"
    },
    "language_info": {
      "name": "python"
    },
    "widgets": {
      "application/vnd.jupyter.widget-state+json": {
        "a95bec6545214330a44d58a3d1201ea0": {
          "model_module": "@jupyter-widgets/controls",
          "model_name": "VBoxModel",
          "model_module_version": "1.5.0",
          "state": {
            "_dom_classes": [
              "widget-interact"
            ],
            "_model_module": "@jupyter-widgets/controls",
            "_model_module_version": "1.5.0",
            "_model_name": "VBoxModel",
            "_view_count": null,
            "_view_module": "@jupyter-widgets/controls",
            "_view_module_version": "1.5.0",
            "_view_name": "VBoxView",
            "box_style": "",
            "children": [
              "IPY_MODEL_9f50581349b04d1caf3f1461373ca1df",
              "IPY_MODEL_2105b1fb0e1542b0aa526a4373eeb195",
              "IPY_MODEL_268aef2a8bc942d28c0f911f8755a9b8"
            ],
            "layout": "IPY_MODEL_6caa58ca922c4999a2863b2e30e938cb"
          }
        },
        "9f50581349b04d1caf3f1461373ca1df": {
          "model_module": "@jupyter-widgets/controls",
          "model_name": "FloatSliderModel",
          "model_module_version": "1.5.0",
          "state": {
            "_dom_classes": [],
            "_model_module": "@jupyter-widgets/controls",
            "_model_module_version": "1.5.0",
            "_model_name": "FloatSliderModel",
            "_view_count": null,
            "_view_module": "@jupyter-widgets/controls",
            "_view_module_version": "1.5.0",
            "_view_name": "FloatSliderView",
            "continuous_update": true,
            "description": "Slope (m)",
            "description_tooltip": null,
            "disabled": false,
            "layout": "IPY_MODEL_477b0a80160241ce96ce5243817c66ff",
            "max": 5,
            "min": -5,
            "orientation": "horizontal",
            "readout": true,
            "readout_format": ".2f",
            "step": 0.5,
            "style": "IPY_MODEL_f57e3bf2ed6044a1bef36f5d5a1d9058",
            "value": 1
          }
        },
        "2105b1fb0e1542b0aa526a4373eeb195": {
          "model_module": "@jupyter-widgets/controls",
          "model_name": "FloatSliderModel",
          "model_module_version": "1.5.0",
          "state": {
            "_dom_classes": [],
            "_model_module": "@jupyter-widgets/controls",
            "_model_module_version": "1.5.0",
            "_model_name": "FloatSliderModel",
            "_view_count": null,
            "_view_module": "@jupyter-widgets/controls",
            "_view_module_version": "1.5.0",
            "_view_name": "FloatSliderView",
            "continuous_update": true,
            "description": "Intercept (b)",
            "description_tooltip": null,
            "disabled": false,
            "layout": "IPY_MODEL_572ae987db9c49a38dae3ec47b217653",
            "max": 10,
            "min": -10,
            "orientation": "horizontal",
            "readout": true,
            "readout_format": ".2f",
            "step": 1,
            "style": "IPY_MODEL_f5fe0713423c4a91ac4774fc70abb6d0",
            "value": 0
          }
        },
        "268aef2a8bc942d28c0f911f8755a9b8": {
          "model_module": "@jupyter-widgets/output",
          "model_name": "OutputModel",
          "model_module_version": "1.0.0",
          "state": {
            "_dom_classes": [],
            "_model_module": "@jupyter-widgets/output",
            "_model_module_version": "1.0.0",
            "_model_name": "OutputModel",
            "_view_count": null,
            "_view_module": "@jupyter-widgets/output",
            "_view_module_version": "1.0.0",
            "_view_name": "OutputView",
            "layout": "IPY_MODEL_db667828ed704d6d8f0c4c0e3f567a60",
            "msg_id": "",
            "outputs": [
              {
                "output_type": "display_data",
                "data": {
                  "text/plain": "<Figure size 800x400 with 1 Axes>",
                  "image/png": "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\n"
                },
                "metadata": {}
              }
            ]
          }
        },
        "6caa58ca922c4999a2863b2e30e938cb": {
          "model_module": "@jupyter-widgets/base",
          "model_name": "LayoutModel",
          "model_module_version": "1.2.0",
          "state": {
            "_model_module": "@jupyter-widgets/base",
            "_model_module_version": "1.2.0",
            "_model_name": "LayoutModel",
            "_view_count": null,
            "_view_module": "@jupyter-widgets/base",
            "_view_module_version": "1.2.0",
            "_view_name": "LayoutView",
            "align_content": null,
            "align_items": null,
            "align_self": null,
            "border": null,
            "bottom": null,
            "display": null,
            "flex": null,
            "flex_flow": null,
            "grid_area": null,
            "grid_auto_columns": null,
            "grid_auto_flow": null,
            "grid_auto_rows": null,
            "grid_column": null,
            "grid_gap": null,
            "grid_row": null,
            "grid_template_areas": null,
            "grid_template_columns": null,
            "grid_template_rows": null,
            "height": null,
            "justify_content": null,
            "justify_items": null,
            "left": null,
            "margin": null,
            "max_height": null,
            "max_width": null,
            "min_height": null,
            "min_width": null,
            "object_fit": null,
            "object_position": null,
            "order": null,
            "overflow": null,
            "overflow_x": null,
            "overflow_y": null,
            "padding": null,
            "right": null,
            "top": null,
            "visibility": null,
            "width": null
          }
        },
        "477b0a80160241ce96ce5243817c66ff": {
          "model_module": "@jupyter-widgets/base",
          "model_name": "LayoutModel",
          "model_module_version": "1.2.0",
          "state": {
            "_model_module": "@jupyter-widgets/base",
            "_model_module_version": "1.2.0",
            "_model_name": "LayoutModel",
            "_view_count": null,
            "_view_module": "@jupyter-widgets/base",
            "_view_module_version": "1.2.0",
            "_view_name": "LayoutView",
            "align_content": null,
            "align_items": null,
            "align_self": null,
            "border": null,
            "bottom": null,
            "display": null,
            "flex": null,
            "flex_flow": null,
            "grid_area": null,
            "grid_auto_columns": null,
            "grid_auto_flow": null,
            "grid_auto_rows": null,
            "grid_column": null,
            "grid_gap": null,
            "grid_row": null,
            "grid_template_areas": null,
            "grid_template_columns": null,
            "grid_template_rows": null,
            "height": null,
            "justify_content": null,
            "justify_items": null,
            "left": null,
            "margin": null,
            "max_height": null,
            "max_width": null,
            "min_height": null,
            "min_width": null,
            "object_fit": null,
            "object_position": null,
            "order": null,
            "overflow": null,
            "overflow_x": null,
            "overflow_y": null,
            "padding": null,
            "right": null,
            "top": null,
            "visibility": null,
            "width": null
          }
        },
        "f57e3bf2ed6044a1bef36f5d5a1d9058": {
          "model_module": "@jupyter-widgets/controls",
          "model_name": "SliderStyleModel",
          "model_module_version": "1.5.0",
          "state": {
            "_model_module": "@jupyter-widgets/controls",
            "_model_module_version": "1.5.0",
            "_model_name": "SliderStyleModel",
            "_view_count": null,
            "_view_module": "@jupyter-widgets/base",
            "_view_module_version": "1.2.0",
            "_view_name": "StyleView",
            "description_width": "",
            "handle_color": null
          }
        },
        "572ae987db9c49a38dae3ec47b217653": {
          "model_module": "@jupyter-widgets/base",
          "model_name": "LayoutModel",
          "model_module_version": "1.2.0",
          "state": {
            "_model_module": "@jupyter-widgets/base",
            "_model_module_version": "1.2.0",
            "_model_name": "LayoutModel",
            "_view_count": null,
            "_view_module": "@jupyter-widgets/base",
            "_view_module_version": "1.2.0",
            "_view_name": "LayoutView",
            "align_content": null,
            "align_items": null,
            "align_self": null,
            "border": null,
            "bottom": null,
            "display": null,
            "flex": null,
            "flex_flow": null,
            "grid_area": null,
            "grid_auto_columns": null,
            "grid_auto_flow": null,
            "grid_auto_rows": null,
            "grid_column": null,
            "grid_gap": null,
            "grid_row": null,
            "grid_template_areas": null,
            "grid_template_columns": null,
            "grid_template_rows": null,
            "height": null,
            "justify_content": null,
            "justify_items": null,
            "left": null,
            "margin": null,
            "max_height": null,
            "max_width": null,
            "min_height": null,
            "min_width": null,
            "object_fit": null,
            "object_position": null,
            "order": null,
            "overflow": null,
            "overflow_x": null,
            "overflow_y": null,
            "padding": null,
            "right": null,
            "top": null,
            "visibility": null,
            "width": null
          }
        },
        "f5fe0713423c4a91ac4774fc70abb6d0": {
          "model_module": "@jupyter-widgets/controls",
          "model_name": "SliderStyleModel",
          "model_module_version": "1.5.0",
          "state": {
            "_model_module": "@jupyter-widgets/controls",
            "_model_module_version": "1.5.0",
            "_model_name": "SliderStyleModel",
            "_view_count": null,
            "_view_module": "@jupyter-widgets/base",
            "_view_module_version": "1.2.0",
            "_view_name": "StyleView",
            "description_width": "",
            "handle_color": null
          }
        },
        "db667828ed704d6d8f0c4c0e3f567a60": {
          "model_module": "@jupyter-widgets/base",
          "model_name": "LayoutModel",
          "model_module_version": "1.2.0",
          "state": {
            "_model_module": "@jupyter-widgets/base",
            "_model_module_version": "1.2.0",
            "_model_name": "LayoutModel",
            "_view_count": null,
            "_view_module": "@jupyter-widgets/base",
            "_view_module_version": "1.2.0",
            "_view_name": "LayoutView",
            "align_content": null,
            "align_items": null,
            "align_self": null,
            "border": null,
            "bottom": null,
            "display": null,
            "flex": null,
            "flex_flow": null,
            "grid_area": null,
            "grid_auto_columns": null,
            "grid_auto_flow": null,
            "grid_auto_rows": null,
            "grid_column": null,
            "grid_gap": null,
            "grid_row": null,
            "grid_template_areas": null,
            "grid_template_columns": null,
            "grid_template_rows": null,
            "height": null,
            "justify_content": null,
            "justify_items": null,
            "left": null,
            "margin": null,
            "max_height": null,
            "max_width": null,
            "min_height": null,
            "min_width": null,
            "object_fit": null,
            "object_position": null,
            "order": null,
            "overflow": null,
            "overflow_x": null,
            "overflow_y": null,
            "padding": null,
            "right": null,
            "top": null,
            "visibility": null,
            "width": null
          }
        },
        "4bb472938cc9484282aa777257f96419": {
          "model_module": "@jupyter-widgets/controls",
          "model_name": "DropdownModel",
          "model_module_version": "1.5.0",
          "state": {
            "_dom_classes": [],
            "_model_module": "@jupyter-widgets/controls",
            "_model_module_version": "1.5.0",
            "_model_name": "DropdownModel",
            "_options_labels": [
              "1",
              "2",
              "3",
              "5"
            ],
            "_view_count": null,
            "_view_module": "@jupyter-widgets/controls",
            "_view_module_version": "1.5.0",
            "_view_name": "DropdownView",
            "description": "Answer:",
            "description_tooltip": null,
            "disabled": false,
            "index": 2,
            "layout": "IPY_MODEL_37724fd0ba70454f81a6ad390ce32195",
            "style": "IPY_MODEL_db45c7433c3b4a16a6cfdef33f7bc126"
          }
        },
        "37724fd0ba70454f81a6ad390ce32195": {
          "model_module": "@jupyter-widgets/base",
          "model_name": "LayoutModel",
          "model_module_version": "1.2.0",
          "state": {
            "_model_module": "@jupyter-widgets/base",
            "_model_module_version": "1.2.0",
            "_model_name": "LayoutModel",
            "_view_count": null,
            "_view_module": "@jupyter-widgets/base",
            "_view_module_version": "1.2.0",
            "_view_name": "LayoutView",
            "align_content": null,
            "align_items": null,
            "align_self": null,
            "border": null,
            "bottom": null,
            "display": null,
            "flex": null,
            "flex_flow": null,
            "grid_area": null,
            "grid_auto_columns": null,
            "grid_auto_flow": null,
            "grid_auto_rows": null,
            "grid_column": null,
            "grid_gap": null,
            "grid_row": null,
            "grid_template_areas": null,
            "grid_template_columns": null,
            "grid_template_rows": null,
            "height": null,
            "justify_content": null,
            "justify_items": null,
            "left": null,
            "margin": null,
            "max_height": null,
            "max_width": null,
            "min_height": null,
            "min_width": null,
            "object_fit": null,
            "object_position": null,
            "order": null,
            "overflow": null,
            "overflow_x": null,
            "overflow_y": null,
            "padding": null,
            "right": null,
            "top": null,
            "visibility": null,
            "width": null
          }
        },
        "db45c7433c3b4a16a6cfdef33f7bc126": {
          "model_module": "@jupyter-widgets/controls",
          "model_name": "DescriptionStyleModel",
          "model_module_version": "1.5.0",
          "state": {
            "_model_module": "@jupyter-widgets/controls",
            "_model_module_version": "1.5.0",
            "_model_name": "DescriptionStyleModel",
            "_view_count": null,
            "_view_module": "@jupyter-widgets/base",
            "_view_module_version": "1.2.0",
            "_view_name": "StyleView",
            "description_width": ""
          }
        },
        "ff1cea6f09f04673978521baad30eb1f": {
          "model_module": "@jupyter-widgets/controls",
          "model_name": "ButtonModel",
          "model_module_version": "1.5.0",
          "state": {
            "_dom_classes": [],
            "_model_module": "@jupyter-widgets/controls",
            "_model_module_version": "1.5.0",
            "_model_name": "ButtonModel",
            "_view_count": null,
            "_view_module": "@jupyter-widgets/controls",
            "_view_module_version": "1.5.0",
            "_view_name": "ButtonView",
            "button_style": "info",
            "description": "Submit Answer",
            "disabled": false,
            "icon": "",
            "layout": "IPY_MODEL_162aee9e602145188fbaf6b433155480",
            "style": "IPY_MODEL_4327e87652a548c282dda2acdf0693f2",
            "tooltip": ""
          }
        },
        "162aee9e602145188fbaf6b433155480": {
          "model_module": "@jupyter-widgets/base",
          "model_name": "LayoutModel",
          "model_module_version": "1.2.0",
          "state": {
            "_model_module": "@jupyter-widgets/base",
            "_model_module_version": "1.2.0",
            "_model_name": "LayoutModel",
            "_view_count": null,
            "_view_module": "@jupyter-widgets/base",
            "_view_module_version": "1.2.0",
            "_view_name": "LayoutView",
            "align_content": null,
            "align_items": null,
            "align_self": null,
            "border": null,
            "bottom": null,
            "display": null,
            "flex": null,
            "flex_flow": null,
            "grid_area": null,
            "grid_auto_columns": null,
            "grid_auto_flow": null,
            "grid_auto_rows": null,
            "grid_column": null,
            "grid_gap": null,
            "grid_row": null,
            "grid_template_areas": null,
            "grid_template_columns": null,
            "grid_template_rows": null,
            "height": null,
            "justify_content": null,
            "justify_items": null,
            "left": null,
            "margin": null,
            "max_height": null,
            "max_width": null,
            "min_height": null,
            "min_width": null,
            "object_fit": null,
            "object_position": null,
            "order": null,
            "overflow": null,
            "overflow_x": null,
            "overflow_y": null,
            "padding": null,
            "right": null,
            "top": null,
            "visibility": null,
            "width": null
          }
        },
        "4327e87652a548c282dda2acdf0693f2": {
          "model_module": "@jupyter-widgets/controls",
          "model_name": "ButtonStyleModel",
          "model_module_version": "1.5.0",
          "state": {
            "_model_module": "@jupyter-widgets/controls",
            "_model_module_version": "1.5.0",
            "_model_name": "ButtonStyleModel",
            "_view_count": null,
            "_view_module": "@jupyter-widgets/base",
            "_view_module_version": "1.2.0",
            "_view_name": "StyleView",
            "button_color": null,
            "font_weight": ""
          }
        },
        "8b2cb4a413744c17a93ac1790a45224e": {
          "model_module": "@jupyter-widgets/output",
          "model_name": "OutputModel",
          "model_module_version": "1.0.0",
          "state": {
            "_dom_classes": [],
            "_model_module": "@jupyter-widgets/output",
            "_model_module_version": "1.0.0",
            "_model_name": "OutputModel",
            "_view_count": null,
            "_view_module": "@jupyter-widgets/output",
            "_view_module_version": "1.0.0",
            "_view_name": "OutputView",
            "layout": "IPY_MODEL_caa97e8e73ef4c7790e4712ac1b38e27",
            "msg_id": "",
            "outputs": [
              {
                "output_type": "display_data",
                "data": {
                  "text/plain": "<IPython.core.display.Markdown object>",
                  "text/markdown": "✅ Correct! The slope is 3."
                },
                "metadata": {}
              }
            ]
          }
        },
        "caa97e8e73ef4c7790e4712ac1b38e27": {
          "model_module": "@jupyter-widgets/base",
          "model_name": "LayoutModel",
          "model_module_version": "1.2.0",
          "state": {
            "_model_module": "@jupyter-widgets/base",
            "_model_module_version": "1.2.0",
            "_model_name": "LayoutModel",
            "_view_count": null,
            "_view_module": "@jupyter-widgets/base",
            "_view_module_version": "1.2.0",
            "_view_name": "LayoutView",
            "align_content": null,
            "align_items": null,
            "align_self": null,
            "border": null,
            "bottom": null,
            "display": null,
            "flex": null,
            "flex_flow": null,
            "grid_area": null,
            "grid_auto_columns": null,
            "grid_auto_flow": null,
            "grid_auto_rows": null,
            "grid_column": null,
            "grid_gap": null,
            "grid_row": null,
            "grid_template_areas": null,
            "grid_template_columns": null,
            "grid_template_rows": null,
            "height": null,
            "justify_content": null,
            "justify_items": null,
            "left": null,
            "margin": null,
            "max_height": null,
            "max_width": null,
            "min_height": null,
            "min_width": null,
            "object_fit": null,
            "object_position": null,
            "order": null,
            "overflow": null,
            "overflow_x": null,
            "overflow_y": null,
            "padding": null,
            "right": null,
            "top": null,
            "visibility": null,
            "width": null
          }
        }
      }
    }
  },
  "cells": [
    {
      "cell_type": "markdown",
      "source": [
        "# 📘 Interactive STEM Learning Platform: Mathematics Module\n",
        "# Developed in Google Colab"
      ],
      "metadata": {
        "id": "G2T4Jb789rgF"
      }
    },
    {
      "cell_type": "markdown",
      "source": [
        "# 📦 Install dependencies (uncomment in Colab)\n",
        "# !pip install ipywidgets matplotlib numpy"
      ],
      "metadata": {
        "id": "Q2xfFoaa9txL"
      }
    },
    {
      "cell_type": "code",
      "source": [
        "import numpy as np\n",
        "import matplotlib.pyplot as plt\n",
        "import ipywidgets as widgets\n",
        "from IPython.display import display, Markdown"
      ],
      "metadata": {
        "id": "7-sy0XJo9yJO"
      },
      "execution_count": 12,
      "outputs": []
    },
    {
      "cell_type": "markdown",
      "source": [
        "# 📐 Lesson: Linear Functions"
      ],
      "metadata": {
        "id": "ki7y_9La93fy"
      }
    },
    {
      "cell_type": "code",
      "source": [
        "def lesson_intro():\n",
        "    display(Markdown(\"\"\"\n",
        "    ## 📘 Lesson: Understanding Linear Functions\n",
        "\n",
        "    A linear function has the form:\n",
        "    \\[ y = mx + b \\]\n",
        "    Where:\n",
        "    - \\( m \\) is the slope\n",
        "    - \\( b \\) is the y-intercept\n",
        "\n",
        "    Use the sliders below to change the slope and intercept, and see how the graph changes.\n",
        "    \"\"\"))"
      ],
      "metadata": {
        "id": "wyMTqlUN99Q0"
      },
      "execution_count": 13,
      "outputs": []
    },
    {
      "cell_type": "markdown",
      "source": [
        "# 📊 Visualization of Linear Functions"
      ],
      "metadata": {
        "id": "bZ6id-ef-DC_"
      }
    },
    {
      "cell_type": "code",
      "source": [
        "def plot_linear_function(slope, intercept):\n",
        "    x = np.linspace(-10, 10, 100)\n",
        "    y = slope * x + intercept\n",
        "    plt.figure(figsize=(8, 4))\n",
        "    plt.plot(x, y, label=f\"y = {slope}x + {intercept}\", color='blue')\n",
        "    plt.axhline(0, color='black', lw=1)\n",
        "    plt.axvline(0, color='black', lw=1)\n",
        "    plt.title(\"Linear Function Graph\")\n",
        "    plt.xlabel(\"x\")\n",
        "    plt.ylabel(\"y\")\n",
        "    plt.grid(True)\n",
        "    plt.legend()\n",
        "    plt.show()"
      ],
      "metadata": {
        "id": "qUE721wQ-GhN"
      },
      "execution_count": 14,
      "outputs": []
    },
    {
      "cell_type": "markdown",
      "source": [
        "# ❓ Quiz"
      ],
      "metadata": {
        "id": "5e69h_TS-MfZ"
      }
    },
    {
      "cell_type": "code",
      "source": [
        "quiz_output = widgets.Output()\n",
        "\n",
        "def quiz():\n",
        "    question = \"What is the slope of the line y = 3x + 2?\"\n",
        "    options = [\"1\", \"2\", \"3\", \"5\"]\n",
        "    correct = \"3\"\n",
        "\n",
        "    dropdown = widgets.Dropdown(options=options, description=\"Answer:\")\n",
        "    submit_btn = widgets.Button(description=\"Submit Answer\", button_style='info')\n",
        "\n",
        "    def check_answer(b):\n",
        "        quiz_output.clear_output()\n",
        "        with quiz_output:\n",
        "            if dropdown.value == correct:\n",
        "                display(Markdown(\"✅ Correct! The slope is 3.\"))\n",
        "            else:\n",
        "                display(Markdown(f\"❌ Incorrect. The correct answer is {correct}.\"))\n",
        "\n",
        "    submit_btn.on_click(check_answer)\n",
        "    display(Markdown(f\"### Quiz: {question}\"))\n",
        "    display(dropdown, submit_btn, quiz_output)"
      ],
      "metadata": {
        "id": "WMsnocS7-TcI"
      },
      "execution_count": 15,
      "outputs": []
    },
    {
      "cell_type": "markdown",
      "source": [
        "# 🎛 Interactive Controls"
      ],
      "metadata": {
        "id": "U472vYPk-Z63"
      }
    },
    {
      "cell_type": "code",
      "source": [
        "slope_slider = widgets.FloatSlider(value=1, min=-5, max=5, step=0.5, description='Slope (m)')\n",
        "intercept_slider = widgets.FloatSlider(value=0, min=-10, max=10, step=1, description='Intercept (b)')\n",
        "\n",
        "widgets.interact(plot_linear_function, slope=slope_slider, intercept=intercept_slider)"
      ],
      "metadata": {
        "colab": {
          "base_uri": "https://localhost:8080/",
          "height": 561,
          "referenced_widgets": [
            "a95bec6545214330a44d58a3d1201ea0",
            "9f50581349b04d1caf3f1461373ca1df",
            "2105b1fb0e1542b0aa526a4373eeb195",
            "268aef2a8bc942d28c0f911f8755a9b8",
            "6caa58ca922c4999a2863b2e30e938cb",
            "477b0a80160241ce96ce5243817c66ff",
            "f57e3bf2ed6044a1bef36f5d5a1d9058",
            "572ae987db9c49a38dae3ec47b217653",
            "f5fe0713423c4a91ac4774fc70abb6d0",
            "db667828ed704d6d8f0c4c0e3f567a60"
          ]
        },
        "id": "YwkddfgF-dYK",
        "outputId": "0adbef1c-ea1c-4dd4-f94f-b676756662eb"
      },
      "execution_count": 16,
      "outputs": [
        {
          "output_type": "display_data",
          "data": {
            "text/plain": [
              "interactive(children=(FloatSlider(value=1.0, description='Slope (m)', max=5.0, min=-5.0, step=0.5), FloatSlide…"
            ],
            "application/vnd.jupyter.widget-view+json": {
              "version_major": 2,
              "version_minor": 0,
              "model_id": "a95bec6545214330a44d58a3d1201ea0"
            }
          },
          "metadata": {}
        },
        {
          "output_type": "execute_result",
          "data": {
            "text/plain": [
              "<function __main__.plot_linear_function(slope, intercept)>"
            ],
            "text/html": [
              "<div style=\"max-width:800px; border: 1px solid var(--colab-border-color);\"><style>\n",
              "      pre.function-repr-contents {\n",
              "        overflow-x: auto;\n",
              "        padding: 8px 12px;\n",
              "        max-height: 500px;\n",
              "      }\n",
              "\n",
              "      pre.function-repr-contents.function-repr-contents-collapsed {\n",
              "        cursor: pointer;\n",
              "        max-height: 100px;\n",
              "      }\n",
              "    </style>\n",
              "    <pre style=\"white-space: initial; background:\n",
              "         var(--colab-secondary-surface-color); padding: 8px 12px;\n",
              "         border-bottom: 1px solid var(--colab-border-color);\"><b>plot_linear_function</b><br/>def plot_linear_function(slope, intercept)</pre><pre class=\"function-repr-contents function-repr-contents-collapsed\" style=\"\"><a class=\"filepath\" style=\"display:none\" href=\"#\">/content/&lt;ipython-input-14-abe9e89a4876&gt;</a>&lt;no docstring&gt;</pre></div>"
            ]
          },
          "metadata": {},
          "execution_count": 16
        }
      ]
    },
    {
      "cell_type": "markdown",
      "source": [
        "# 🧠 Show Lesson & Quiz"
      ],
      "metadata": {
        "id": "gFYabW0r-j0c"
      }
    },
    {
      "cell_type": "code",
      "source": [
        "lesson_intro()\n",
        "quiz()"
      ],
      "metadata": {
        "colab": {
          "base_uri": "https://localhost:8080/",
          "height": 305,
          "referenced_widgets": [
            "4bb472938cc9484282aa777257f96419",
            "37724fd0ba70454f81a6ad390ce32195",
            "db45c7433c3b4a16a6cfdef33f7bc126",
            "ff1cea6f09f04673978521baad30eb1f",
            "162aee9e602145188fbaf6b433155480",
            "4327e87652a548c282dda2acdf0693f2",
            "8b2cb4a413744c17a93ac1790a45224e",
            "caa97e8e73ef4c7790e4712ac1b38e27"
          ]
        },
        "id": "bpTrKCUu-n_5",
        "outputId": "dc405420-b6b6-4ae4-e4d1-38c93d8f70c5"
      },
      "execution_count": 17,
      "outputs": [
        {
          "output_type": "display_data",
          "data": {
            "text/plain": [
              "<IPython.core.display.Markdown object>"
            ],
            "text/markdown": "\n    ## 📘 Lesson: Understanding Linear Functions\n\n    A linear function has the form:\n    \\[ y = mx + b \\]\n    Where:\n    - \\( m \\) is the slope\n    - \\( b \\) is the y-intercept\n\n    Use the sliders below to change the slope and intercept, and see how the graph changes.\n    "
          },
          "metadata": {}
        },
        {
          "output_type": "display_data",
          "data": {
            "text/plain": [
              "<IPython.core.display.Markdown object>"
            ],
            "text/markdown": "### Quiz: What is the slope of the line y = 3x + 2?"
          },
          "metadata": {}
        },
        {
          "output_type": "display_data",
          "data": {
            "text/plain": [
              "Dropdown(description='Answer:', options=('1', '2', '3', '5'), value='1')"
            ],
            "application/vnd.jupyter.widget-view+json": {
              "version_major": 2,
              "version_minor": 0,
              "model_id": "4bb472938cc9484282aa777257f96419"
            }
          },
          "metadata": {}
        },
        {
          "output_type": "display_data",
          "data": {
            "text/plain": [
              "Button(button_style='info', description='Submit Answer', style=ButtonStyle())"
            ],
            "application/vnd.jupyter.widget-view+json": {
              "version_major": 2,
              "version_minor": 0,
              "model_id": "ff1cea6f09f04673978521baad30eb1f"
            }
          },
          "metadata": {}
        },
        {
          "output_type": "display_data",
          "data": {
            "text/plain": [
              "Output()"
            ],
            "application/vnd.jupyter.widget-view+json": {
              "version_major": 2,
              "version_minor": 0,
              "model_id": "8b2cb4a413744c17a93ac1790a45224e"
            }
          },
          "metadata": {}
        }
      ]
    }
  ]
}